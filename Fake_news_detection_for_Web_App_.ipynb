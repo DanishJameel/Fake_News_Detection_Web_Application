{
  "cells": [
    {
      "cell_type": "code",
      "execution_count": null,
      "metadata": {
        "id": "M6DALkgye2hN"
      },
      "outputs": [],
      "source": [
        "import pandas as pd # for the Data Analysis"
      ]
    },
    {
      "cell_type": "code",
      "execution_count": null,
      "metadata": {
        "id": "t6D4aoY3fEov"
      },
      "outputs": [],
      "source": [
        "df = pd.read_csv(r\"\\Users\\name_of_user\\Downloads\\Datasets for the Detection.csv\") # Uploading The Datasets"
      ]
    },
    {
      "cell_type": "code",
      "execution_count": null,
      "metadata": {
        "colab": {
          "base_uri": "https://localhost:8080/",
          "height": 143
        },
        "id": "_T_4joPNfIcf",
        "outputId": "3883c275-4282-4763-e474-51365120672f"
      },
      "outputs": [
        {
          "data": {
            "text/html": [
              "<div>\n",
              "<style scoped>\n",
              "    .dataframe tbody tr th:only-of-type {\n",
              "        vertical-align: middle;\n",
              "    }\n",
              "\n",
              "    .dataframe tbody tr th {\n",
              "        vertical-align: top;\n",
              "    }\n",
              "\n",
              "    .dataframe thead th {\n",
              "        text-align: right;\n",
              "    }\n",
              "</style>\n",
              "<table border=\"1\" class=\"dataframe\">\n",
              "  <thead>\n",
              "    <tr style=\"text-align: right;\">\n",
              "      <th></th>\n",
              "      <th>Label</th>\n",
              "      <th>News</th>\n",
              "      <th>Unnamed: 2</th>\n",
              "    </tr>\n",
              "  </thead>\n",
              "  <tbody>\n",
              "    <tr>\n",
              "      <th>0</th>\n",
              "      <td>Real</td>\n",
              "      <td>The Disappearing Middle: Electorate Way Less M...</td>\n",
              "      <td>NaN</td>\n",
              "    </tr>\n",
              "    <tr>\n",
              "      <th>1</th>\n",
              "      <td>Real</td>\n",
              "      <td>Radio host Sean Hannity said on his show Wedne...</td>\n",
              "      <td>NaN</td>\n",
              "    </tr>\n",
              "    <tr>\n",
              "      <th>2</th>\n",
              "      <td>Fake</td>\n",
              "      <td>Print version Font Size The hypersonic aircraf...</td>\n",
              "      <td>NaN</td>\n",
              "    </tr>\n",
              "  </tbody>\n",
              "</table>\n",
              "</div>"
            ],
            "text/plain": [
              "  Label                                               News Unnamed: 2\n",
              "0  Real  The Disappearing Middle: Electorate Way Less M...        NaN\n",
              "1  Real  Radio host Sean Hannity said on his show Wedne...        NaN\n",
              "2  Fake  Print version Font Size The hypersonic aircraf...        NaN"
            ]
          },
          "execution_count": 11,
          "metadata": {},
          "output_type": "execute_result"
        }
      ],
      "source": [
        "df.head(3) "
      ]
    },
    {
      "cell_type": "code",
      "execution_count": null,
      "metadata": {
        "id": "9FHf4NoxDXpX"
      },
      "outputs": [],
      "source": [
        "new_col_names = {'ï»¿Label': 'Label'} # Change the Column Name"
      ]
    },
    {
      "cell_type": "code",
      "execution_count": null,
      "metadata": {
        "id": "YYnPrjqNDYxZ"
      },
      "outputs": [],
      "source": [
        "df  = df.rename(columns=new_col_names)"
      ]
    },
    {
      "cell_type": "code",
      "execution_count": null,
      "metadata": {
        "colab": {
          "base_uri": "https://localhost:8080/"
        },
        "id": "3khrStRBfLHX",
        "outputId": "c03cad39-a954-44b6-d847-91007f379fc8"
      },
      "outputs": [
        {
          "data": {
            "text/plain": [
              "(57446, 3)"
            ]
          },
          "execution_count": 14,
          "metadata": {},
          "output_type": "execute_result"
        }
      ],
      "source": [
        "df.shape # Shape of Data Set"
      ]
    },
    {
      "cell_type": "code",
      "execution_count": null,
      "metadata": {
        "id": "E5dsntEvDfji"
      },
      "outputs": [],
      "source": [
        "df.drop(['Unnamed: 2'], axis=1, inplace=True) # Drop The Irrelevant Column "
      ]
    },
    {
      "cell_type": "code",
      "execution_count": null,
      "metadata": {
        "colab": {
          "base_uri": "https://localhost:8080/",
          "height": 424
        },
        "id": "FAPMr3CigM7E",
        "outputId": "5f4c577b-eee8-4367-9d5a-c90577e5a492"
      },
      "outputs": [
        {
          "data": {
            "text/html": [
              "<div>\n",
              "<style scoped>\n",
              "    .dataframe tbody tr th:only-of-type {\n",
              "        vertical-align: middle;\n",
              "    }\n",
              "\n",
              "    .dataframe tbody tr th {\n",
              "        vertical-align: top;\n",
              "    }\n",
              "\n",
              "    .dataframe thead th {\n",
              "        text-align: right;\n",
              "    }\n",
              "</style>\n",
              "<table border=\"1\" class=\"dataframe\">\n",
              "  <thead>\n",
              "    <tr style=\"text-align: right;\">\n",
              "      <th></th>\n",
              "      <th>Label</th>\n",
              "      <th>News</th>\n",
              "    </tr>\n",
              "  </thead>\n",
              "  <tbody>\n",
              "    <tr>\n",
              "      <th>0</th>\n",
              "      <td>Real</td>\n",
              "      <td>The Disappearing Middle: Electorate Way Less M...</td>\n",
              "    </tr>\n",
              "    <tr>\n",
              "      <th>1</th>\n",
              "      <td>Real</td>\n",
              "      <td>Radio host Sean Hannity said on his show Wedne...</td>\n",
              "    </tr>\n",
              "    <tr>\n",
              "      <th>2</th>\n",
              "      <td>Fake</td>\n",
              "      <td>Print version Font Size The hypersonic aircraf...</td>\n",
              "    </tr>\n",
              "    <tr>\n",
              "      <th>3</th>\n",
              "      <td>Fake</td>\n",
              "      <td>. The Hulk Actor Mark Ruffalo Has Joined Stand...</td>\n",
              "    </tr>\n",
              "    <tr>\n",
              "      <th>4</th>\n",
              "      <td>Real</td>\n",
              "      <td>Ben Carson pitched a tax plan with numbers tha...</td>\n",
              "    </tr>\n",
              "    <tr>\n",
              "      <th>...</th>\n",
              "      <td>...</td>\n",
              "      <td>...</td>\n",
              "    </tr>\n",
              "    <tr>\n",
              "      <th>57441</th>\n",
              "      <td>Real</td>\n",
              "      <td>'Fully committed' NATO backs new U.S. approach...</td>\n",
              "    </tr>\n",
              "    <tr>\n",
              "      <th>57442</th>\n",
              "      <td>Real</td>\n",
              "      <td>LexisNexis withdrew two products from Chinese ...</td>\n",
              "    </tr>\n",
              "    <tr>\n",
              "      <th>57443</th>\n",
              "      <td>Real</td>\n",
              "      <td>Minsk cultural hub becomes haven from authorities</td>\n",
              "    </tr>\n",
              "    <tr>\n",
              "      <th>57444</th>\n",
              "      <td>Real</td>\n",
              "      <td>Vatican upbeat on possibility of Pope Francis ...</td>\n",
              "    </tr>\n",
              "    <tr>\n",
              "      <th>57445</th>\n",
              "      <td>Real</td>\n",
              "      <td>Indonesia to buy $1.14 billion worth of Russia...</td>\n",
              "    </tr>\n",
              "  </tbody>\n",
              "</table>\n",
              "<p>57446 rows × 2 columns</p>\n",
              "</div>"
            ],
            "text/plain": [
              "      Label                                               News\n",
              "0      Real  The Disappearing Middle: Electorate Way Less M...\n",
              "1      Real  Radio host Sean Hannity said on his show Wedne...\n",
              "2      Fake  Print version Font Size The hypersonic aircraf...\n",
              "3      Fake  . The Hulk Actor Mark Ruffalo Has Joined Stand...\n",
              "4      Real  Ben Carson pitched a tax plan with numbers tha...\n",
              "...     ...                                                ...\n",
              "57441  Real  'Fully committed' NATO backs new U.S. approach...\n",
              "57442  Real  LexisNexis withdrew two products from Chinese ...\n",
              "57443  Real  Minsk cultural hub becomes haven from authorities\n",
              "57444  Real  Vatican upbeat on possibility of Pope Francis ...\n",
              "57445  Real  Indonesia to buy $1.14 billion worth of Russia...\n",
              "\n",
              "[57446 rows x 2 columns]"
            ]
          },
          "execution_count": 16,
          "metadata": {},
          "output_type": "execute_result"
        }
      ],
      "source": [
        "df"
      ]
    },
    {
      "cell_type": "code",
      "execution_count": null,
      "metadata": {
        "colab": {
          "base_uri": "https://localhost:8080/"
        },
        "id": "8TDZywiIhBh6",
        "outputId": "ccb1586c-a19c-4136-f432-61ad2e043de2"
      },
      "outputs": [
        {
          "data": {
            "text/plain": [
              "(57446, 2)"
            ]
          },
          "execution_count": 18,
          "metadata": {},
          "output_type": "execute_result"
        }
      ],
      "source": [
        "df.shape"
      ]
    },
    {
      "cell_type": "code",
      "execution_count": null,
      "metadata": {
        "colab": {
          "base_uri": "https://localhost:8080/",
          "height": 206
        },
        "id": "M6sr_V0DhDqX",
        "outputId": "258bcc67-c67a-4edd-cbe9-34c16b39143c"
      },
      "outputs": [
        {
          "data": {
            "text/html": [
              "<div>\n",
              "<style scoped>\n",
              "    .dataframe tbody tr th:only-of-type {\n",
              "        vertical-align: middle;\n",
              "    }\n",
              "\n",
              "    .dataframe tbody tr th {\n",
              "        vertical-align: top;\n",
              "    }\n",
              "\n",
              "    .dataframe thead th {\n",
              "        text-align: right;\n",
              "    }\n",
              "</style>\n",
              "<table border=\"1\" class=\"dataframe\">\n",
              "  <thead>\n",
              "    <tr style=\"text-align: right;\">\n",
              "      <th></th>\n",
              "      <th>Label</th>\n",
              "      <th>News</th>\n",
              "    </tr>\n",
              "  </thead>\n",
              "  <tbody>\n",
              "    <tr>\n",
              "      <th>57441</th>\n",
              "      <td>Real</td>\n",
              "      <td>'Fully committed' NATO backs new U.S. approach...</td>\n",
              "    </tr>\n",
              "    <tr>\n",
              "      <th>57442</th>\n",
              "      <td>Real</td>\n",
              "      <td>LexisNexis withdrew two products from Chinese ...</td>\n",
              "    </tr>\n",
              "    <tr>\n",
              "      <th>57443</th>\n",
              "      <td>Real</td>\n",
              "      <td>Minsk cultural hub becomes haven from authorities</td>\n",
              "    </tr>\n",
              "    <tr>\n",
              "      <th>57444</th>\n",
              "      <td>Real</td>\n",
              "      <td>Vatican upbeat on possibility of Pope Francis ...</td>\n",
              "    </tr>\n",
              "    <tr>\n",
              "      <th>57445</th>\n",
              "      <td>Real</td>\n",
              "      <td>Indonesia to buy $1.14 billion worth of Russia...</td>\n",
              "    </tr>\n",
              "  </tbody>\n",
              "</table>\n",
              "</div>"
            ],
            "text/plain": [
              "      Label                                               News\n",
              "57441  Real  'Fully committed' NATO backs new U.S. approach...\n",
              "57442  Real  LexisNexis withdrew two products from Chinese ...\n",
              "57443  Real  Minsk cultural hub becomes haven from authorities\n",
              "57444  Real  Vatican upbeat on possibility of Pope Francis ...\n",
              "57445  Real  Indonesia to buy $1.14 billion worth of Russia..."
            ]
          },
          "execution_count": 19,
          "metadata": {},
          "output_type": "execute_result"
        }
      ],
      "source": [
        "df.tail()"
      ]
    },
    {
      "cell_type": "code",
      "execution_count": null,
      "metadata": {
        "id": "rNmdNyeChPbZ"
      },
      "outputs": [],
      "source": [
        "X = df. drop('Label', axis=1)\n",
        "y = df['Label']"
      ]
    },
    {
      "cell_type": "code",
      "execution_count": null,
      "metadata": {
        "id": "HoVBt4KLhc1h"
      },
      "outputs": [],
      "source": [
        "df = df.dropna()\n",
        "df2 = df.copy()"
      ]
    },
    {
      "cell_type": "code",
      "execution_count": null,
      "metadata": {
        "colab": {
          "base_uri": "https://localhost:8080/",
          "height": 206
        },
        "id": "H1lgvbDwhisy",
        "outputId": "0f9aba55-8ec9-42e7-8f10-23979cf7dc4f"
      },
      "outputs": [
        {
          "data": {
            "text/html": [
              "<div>\n",
              "<style scoped>\n",
              "    .dataframe tbody tr th:only-of-type {\n",
              "        vertical-align: middle;\n",
              "    }\n",
              "\n",
              "    .dataframe tbody tr th {\n",
              "        vertical-align: top;\n",
              "    }\n",
              "\n",
              "    .dataframe thead th {\n",
              "        text-align: right;\n",
              "    }\n",
              "</style>\n",
              "<table border=\"1\" class=\"dataframe\">\n",
              "  <thead>\n",
              "    <tr style=\"text-align: right;\">\n",
              "      <th></th>\n",
              "      <th>Label</th>\n",
              "      <th>News</th>\n",
              "    </tr>\n",
              "  </thead>\n",
              "  <tbody>\n",
              "    <tr>\n",
              "      <th>0</th>\n",
              "      <td>Real</td>\n",
              "      <td>The Disappearing Middle: Electorate Way Less M...</td>\n",
              "    </tr>\n",
              "    <tr>\n",
              "      <th>1</th>\n",
              "      <td>Real</td>\n",
              "      <td>Radio host Sean Hannity said on his show Wedne...</td>\n",
              "    </tr>\n",
              "    <tr>\n",
              "      <th>2</th>\n",
              "      <td>Fake</td>\n",
              "      <td>Print version Font Size The hypersonic aircraf...</td>\n",
              "    </tr>\n",
              "    <tr>\n",
              "      <th>3</th>\n",
              "      <td>Fake</td>\n",
              "      <td>. The Hulk Actor Mark Ruffalo Has Joined Stand...</td>\n",
              "    </tr>\n",
              "    <tr>\n",
              "      <th>4</th>\n",
              "      <td>Real</td>\n",
              "      <td>Ben Carson pitched a tax plan with numbers tha...</td>\n",
              "    </tr>\n",
              "  </tbody>\n",
              "</table>\n",
              "</div>"
            ],
            "text/plain": [
              "  Label                                               News\n",
              "0  Real  The Disappearing Middle: Electorate Way Less M...\n",
              "1  Real  Radio host Sean Hannity said on his show Wedne...\n",
              "2  Fake  Print version Font Size The hypersonic aircraf...\n",
              "3  Fake  . The Hulk Actor Mark Ruffalo Has Joined Stand...\n",
              "4  Real  Ben Carson pitched a tax plan with numbers tha..."
            ]
          },
          "execution_count": 22,
          "metadata": {},
          "output_type": "execute_result"
        }
      ],
      "source": [
        "df2.head()"
      ]
    },
    {
      "cell_type": "code",
      "execution_count": null,
      "metadata": {
        "colab": {
          "base_uri": "https://localhost:8080/",
          "height": 206
        },
        "id": "pAhZo94Lhtnm",
        "outputId": "c40170c5-c73e-43da-f08c-7f74ccebaecc"
      },
      "outputs": [
        {
          "data": {
            "text/html": [
              "<div>\n",
              "<style scoped>\n",
              "    .dataframe tbody tr th:only-of-type {\n",
              "        vertical-align: middle;\n",
              "    }\n",
              "\n",
              "    .dataframe tbody tr th {\n",
              "        vertical-align: top;\n",
              "    }\n",
              "\n",
              "    .dataframe thead th {\n",
              "        text-align: right;\n",
              "    }\n",
              "</style>\n",
              "<table border=\"1\" class=\"dataframe\">\n",
              "  <thead>\n",
              "    <tr style=\"text-align: right;\">\n",
              "      <th></th>\n",
              "      <th>index</th>\n",
              "      <th>Label</th>\n",
              "      <th>News</th>\n",
              "    </tr>\n",
              "  </thead>\n",
              "  <tbody>\n",
              "    <tr>\n",
              "      <th>0</th>\n",
              "      <td>0</td>\n",
              "      <td>Real</td>\n",
              "      <td>The Disappearing Middle: Electorate Way Less M...</td>\n",
              "    </tr>\n",
              "    <tr>\n",
              "      <th>1</th>\n",
              "      <td>1</td>\n",
              "      <td>Real</td>\n",
              "      <td>Radio host Sean Hannity said on his show Wedne...</td>\n",
              "    </tr>\n",
              "    <tr>\n",
              "      <th>2</th>\n",
              "      <td>2</td>\n",
              "      <td>Fake</td>\n",
              "      <td>Print version Font Size The hypersonic aircraf...</td>\n",
              "    </tr>\n",
              "    <tr>\n",
              "      <th>3</th>\n",
              "      <td>3</td>\n",
              "      <td>Fake</td>\n",
              "      <td>. The Hulk Actor Mark Ruffalo Has Joined Stand...</td>\n",
              "    </tr>\n",
              "    <tr>\n",
              "      <th>4</th>\n",
              "      <td>4</td>\n",
              "      <td>Real</td>\n",
              "      <td>Ben Carson pitched a tax plan with numbers tha...</td>\n",
              "    </tr>\n",
              "  </tbody>\n",
              "</table>\n",
              "</div>"
            ],
            "text/plain": [
              "   index Label                                               News\n",
              "0      0  Real  The Disappearing Middle: Electorate Way Less M...\n",
              "1      1  Real  Radio host Sean Hannity said on his show Wedne...\n",
              "2      2  Fake  Print version Font Size The hypersonic aircraf...\n",
              "3      3  Fake  . The Hulk Actor Mark Ruffalo Has Joined Stand...\n",
              "4      4  Real  Ben Carson pitched a tax plan with numbers tha..."
            ]
          },
          "execution_count": 23,
          "metadata": {},
          "output_type": "execute_result"
        }
      ],
      "source": [
        "df2.reset_index(inplace=True)\n",
        "df2.head()"
      ]
    },
    {
      "cell_type": "code",
      "execution_count": null,
      "metadata": {
        "colab": {
          "base_uri": "https://localhost:8080/",
          "height": 174
        },
        "id": "TFAtm5yFiL9f",
        "outputId": "063e58ca-d116-4b60-ddf6-312280fa743e"
      },
      "outputs": [
        {
          "data": {
            "text/plain": [
              "'Print version Font Size The hypersonic aircraft , known as \"article 4202\" or \"15U71\" was successfully tested on October 25 for the first time. All avionics and electronic systems, as well as the control system of the vehicle are entirely of Russian production.The weapon is capable of speeding up to 15 Max, or 7 km/sec. The vehicle was designed to be installed at prospective intercontinental ballistic missiles, instead of conventional warheads. The \"4202\" vehicle starts working at an altitude of about 100 km and flies to the target at the speed of 5-7 km/s. Before entering dense layers of the atmosphere, directly above the target, the hypersonic aircraft performs a complex maneuver that makes it difficult to interception by missile defense systems of the enemy . Noteworthy, the project of hypersonic warheads called \"Albatross\" appeared in the USSR in the mid-1980s, as a response to USA\\'s attempts to create a missile defense system within the concept of \"star wars.\" However, due to the technical difficulties, the project was shut down. In the mid-1990s, the Scientific and Production Association (NPO) resumed the development of the new weapon under the number \"4202.\"According to sources at Roscosmos state corporation, the successful tests of the new hypersonic aircraft were made possible with the help of the intensive import substitution program. For instance, Russian engineers had to get rid of the control system, previously manufactured by Ukrainian company Hartron. The successfully implemented program provided an opportunity to resume the tests. As a result, all the avionics and electronic systems, as well as the control system now completely consist of Russian components.The Russian Army is to receive new hypersonic weapons by 2020 . The development of high-speed anti-aircraft missiles has made it possible to intercept and destroy any modern aircraft or missile at any altitude. The way out is to create the aircraft capable of flying faster than interceptor missiles.For this particular reason, major powers of the world, such as the USA, Russia and China, rushed to develop hypersonic flight vehicles of different types and purposes. China, for example, tested the hypersonic WU-14 glider on 9 January 2015. The Chinese aircraft is launched into outer space with the help of an intercontinental ballistic missile. Then, the vehicle develops the speed of 10M, that is, more than 12,300 km/h, and dives onto the target. State-of-the-art air defense systems are unable to detect and intercept a target flying at this speed. China has thus become the third country in the world, after Russia and the United States, which has the technology of hypersonic vehicles for both nuclear and conventional weapons. In fact, the Chinese have created a warhead with control surfaces that can maneuver in flight thus becoming practically invulnerable. However, this vehicle does not have its own engine, so the Chinese creation has become another weapon for \"the poorest.\" Russia currently works on different types of hypersonic scramjet missiles, which can be launched from land, ships or aircraft.Pravda.Ru requested an expert opinion from chief editor of \"Arms Export\" magazine, Andrey Frolov.\"How competitive is Russia in the development of hypersonic aircraft?\" \"Russia is at the forefront. This is not the first test, I think that in the near future these systems will be passed into service at the army. The Americans do not have such weapons yet, the Chinese are in the development process.\"\"Are there any other details available?\" \"This is a secret subject. We know that such weapons have been created - and this is a lot to know already.\" Pravda.Ru Read article on the Russian version of Pravda.Ru Five types of Russian weapons which USA are afraid of'"
            ]
          },
          "execution_count": 24,
          "metadata": {},
          "output_type": "execute_result"
        }
      ],
      "source": [
        "df2['News'][2]"
      ]
    },
    {
      "cell_type": "markdown",
      "metadata": {
        "id": "JXfB-zHbigwN"
      },
      "source": [
        "**Data Preprocessing**"
      ]
    },
    {
      "cell_type": "code",
      "execution_count": null,
      "metadata": {
        "id": "19d8aVpIiZDq"
      },
      "outputs": [],
      "source": [
        "from nltk.corpus import stopwords  # Import the Library for the Data Preprocessing of Textual Data\n",
        "from nltk.stem.porter import PorterStemmer\n",
        "ps = PorterStemmer()"
      ]
    },
    {
      "cell_type": "code",
      "execution_count": null,
      "metadata": {
        "colab": {
          "base_uri": "https://localhost:8080/"
        },
        "id": "xY4vg7yDipqH",
        "outputId": "ff7b8db4-da41-4abf-cfa6-a3aa24a9bda7"
      },
      "outputs": [
        {
          "name": "stderr",
          "output_type": "stream",
          "text": [
            "[nltk_data] Downloading package stopwords to C:\\Users\\Ammar\n",
            "[nltk_data]     Murtaza\\AppData\\Roaming\\nltk_data...\n",
            "[nltk_data]   Unzipping corpora\\stopwords.zip.\n"
          ]
        }
      ],
      "source": [
        "import re\n",
        "import nltk\n",
        "nltk.download('stopwords')\n",
        "\n",
        "corpus = []\n",
        "for i in range(0, len(df2)):\n",
        "    review = re.sub('[^a-zA-Z]', ' ', df2['News'][i])\n",
        "    review = review.lower()\n",
        "    review = review.split()\n",
        "    \n",
        "    review = [ps.stem(word) for word in review if not word in stopwords.words('english')]\n",
        "    review = ' '.join(review)\n",
        "    corpus.append(review)"
      ]
    },
    {
      "cell_type": "code",
      "execution_count": null,
      "metadata": {
        "id": "-diLCW7zi7IQ"
      },
      "outputs": [],
      "source": [
        "# TFidf Vectorizer\n",
        "from sklearn.feature_extraction.text import TfidfVectorizer\n",
        "tfidf_v = TfidfVectorizer(max_features=5000, ngram_range=(1,3))"
      ]
    },
    {
      "cell_type": "code",
      "execution_count": null,
      "metadata": {
        "id": "zZ3JpNcHjEod"
      },
      "outputs": [],
      "source": [
        "X = tfidf_v.fit_transform(corpus).toarray()\n",
        "y = df2['Label']"
      ]
    },
    {
      "cell_type": "code",
      "execution_count": null,
      "metadata": {
        "id": "02XrVJFijLjG"
      },
      "outputs": [],
      "source": [
        "# Divide the dataset into Train and Test\n",
        "from sklearn.model_selection import train_test_split\n",
        "X_train, X_test, y_train, y_test = train_test_split(X, y, test_size=0.2, random_state=0)"
      ]
    },
    {
      "cell_type": "markdown",
      "metadata": {
        "id": "8AE_JbEvliKs"
      },
      "source": [
        "**Model building**"
      ]
    },
    {
      "cell_type": "code",
      "execution_count": null,
      "metadata": {
        "id": "bVMM9sKKlh1B"
      },
      "outputs": [],
      "source": [
        "from sklearn.linear_model import PassiveAggressiveClassifier\n",
        "classifier = PassiveAggressiveClassifier(max_iter=1000)"
      ]
    },
    {
      "cell_type": "code",
      "execution_count": null,
      "metadata": {
        "colab": {
          "base_uri": "https://localhost:8080/"
        },
        "id": "fgAefSFklXiZ",
        "outputId": "338ef27d-5bba-49b0-93bc-bf75ceeae9b2"
      },
      "outputs": [
        {
          "name": "stdout",
          "output_type": "stream",
          "text": [
            "accuracy:   0.847\n"
          ]
        }
      ],
      "source": [
        "from sklearn import metrics\n",
        "import numpy as np\n",
        "import itertools\n",
        "\n",
        "classifier.fit(X_train, y_train)\n",
        "\n",
        "pred = classifier.predict(X_test)\n",
        "\n",
        "score = metrics.accuracy_score(y_test, pred)\n",
        "print(\"accuracy:   %0.3f\" % score)"
      ]
    },
    {
      "cell_type": "code",
      "execution_count": null,
      "metadata": {
        "id": "5yddlvMIAOIg"
      },
      "outputs": [],
      "source": [
        "# Metrics\n",
        "from sklearn.metrics import accuracy_score\n",
        "\n",
        "# model\n",
        "def compute_metrics(data, y_true, model_obj, model):\n",
        "\n",
        "  # Make predictions\n",
        "  y_pred = model_obj.predict(data)\n",
        "\n",
        "  # Compute accuracy\n",
        "  acc = accuracy_score(y_true = y_true, y_pred = y_pred)\n",
        "\n",
        "  # Make DataFrame\n",
        "  metrics = pd.DataFrame(data = np.array([acc]), index=[model], columns=['Accuracy Score'])\n",
        "  return metrics"
      ]
    },
    {
      "cell_type": "code",
      "execution_count": null,
      "metadata": {
        "id": "Svpw73DW_9vB"
      },
      "outputs": [],
      "source": []
    },
    {
      "cell_type": "code",
      "execution_count": null,
      "metadata": {
        "colab": {
          "base_uri": "https://localhost:8080/"
        },
        "id": "4wy8G_wa0f3R",
        "outputId": "d42f73f2-e3c9-45a5-f04a-b623d31eea26"
      },
      "outputs": [
        {
          "name": "stdout",
          "output_type": "stream",
          "text": [
            "0.6327241079199304\n"
          ]
        },
        {
          "name": "stderr",
          "output_type": "stream",
          "text": [
            "C:\\ProgramData\\Anaconda3\\lib\\site-packages\\sklearn\\neighbors\\_classification.py:228: FutureWarning: Unlike other reduction functions (e.g. `skew`, `kurtosis`), the default behavior of `mode` typically preserves the axis it acts along. In SciPy 1.11.0, this behavior will change: the default value of `keepdims` will become False, the `axis` over which the statistic is taken will be eliminated, and the value None will no longer be accepted. Set `keepdims` to True or False to avoid this warning.\n",
            "  mode, _ = stats.mode(_y[neigh_ind, k], axis=1)\n"
          ]
        }
      ],
      "source": [
        "from sklearn.neighbors import KNeighborsClassifier\n",
        "k=KNeighborsClassifier()\n",
        "k.fit(X_train,y_train)\n",
        "result=k.predict(X_test)\n",
        "print(accuracy_score(y_test,result))\n"
      ]
    },
    {
      "cell_type": "code",
      "execution_count": null,
      "metadata": {
        "colab": {
          "base_uri": "https://localhost:8080/"
        },
        "id": "zGpD3F2OdRkz",
        "outputId": "b0531e35-da20-400c-a13b-db1a832afb0b"
      },
      "outputs": [
        {
          "name": "stdout",
          "output_type": "stream",
          "text": [
            "0.8746736292428199\n"
          ]
        }
      ],
      "source": [
        "from sklearn.linear_model import LogisticRegression\n",
        "lr=LogisticRegression()\n",
        "lr.fit(X_train,y_train)\n",
        "y_pred=lr.predict(X_test)\n",
        "\n",
        "print(accuracy_score(y_test,y_pred))\n"
      ]
    },
    {
      "cell_type": "code",
      "execution_count": null,
      "metadata": {
        "colab": {
          "base_uri": "https://localhost:8080/"
        },
        "id": "orjb8r0gdmUT",
        "outputId": "6f178d29-ad51-4fc7-f589-350831d417bb"
      },
      "outputs": [
        {
          "name": "stdout",
          "output_type": "stream",
          "text": [
            "0.8322889469103568\n"
          ]
        }
      ],
      "source": [
        "from sklearn.tree import DecisionTreeClassifier\n",
        "d=DecisionTreeClassifier()\n",
        "d.fit(X_train,y_train)\n",
        "y_pred=d.predict(X_test)\n",
        "\n",
        "print(accuracy_score(y_test,y_pred))\n",
        "# gives 0.9736842105263158"
      ]
    },
    {
      "cell_type": "code",
      "execution_count": null,
      "metadata": {
        "id": "fkOqxyJxdwxH"
      },
      "outputs": [],
      "source": [
        "from sklearn.linear_model import Perceptron\n"
      ]
    },
    {
      "cell_type": "code",
      "execution_count": null,
      "metadata": {
        "colab": {
          "base_uri": "https://localhost:8080/",
          "height": 397
        },
        "id": "ee4klf_keMJr",
        "outputId": "9597f5d9-7f17-4c20-a043-880b3c222639"
      },
      "outputs": [
        {
          "name": "stdout",
          "output_type": "stream",
          "text": [
            "0.788337684943429\n"
          ]
        }
      ],
      "source": [
        "\n",
        "from sklearn.ensemble import GradientBoostingClassifier\n",
        "gbc=GradientBoostingClassifier()\n",
        "gbc.fit(X_train,y_train)\n",
        "y_pred=gbc.predict(X_test)\n",
        "\n",
        "print(accuracy_score(y_test,y_pred))\n",
        "# gives 0.9736842105263158"
      ]
    },
    {
      "cell_type": "code",
      "source": [
        "# Create a Modelfile with the Pickle"
      ],
      "metadata": {
        "id": "e1Yj2w8gXXpz"
      },
      "execution_count": null,
      "outputs": []
    },
    {
      "cell_type": "code",
      "execution_count": null,
      "metadata": {
        "id": "A0yYvoI8oGb3"
      },
      "outputs": [],
      "source": [
        "import pickle"
      ]
    },
    {
      "cell_type": "code",
      "execution_count": null,
      "metadata": {
        "id": "dalF5NoAq8ai"
      },
      "outputs": [],
      "source": [
        "pickle.dump(lr, open('model_dump.pkl', 'wb'))"
      ]
    },
    {
      "cell_type": "markdown",
      "metadata": {
        "id": "iehsIwZlzKS2"
      },
      "source": [
        " Create a Vectorizer File."
      ]
    },
    {
      "cell_type": "code",
      "execution_count": null,
      "metadata": {
        "id": "pW6nsY_Kq_1j"
      },
      "outputs": [],
      "source": [
        "pickle.dump(tfidf_v, open('tfidfvect2.pkl', 'wb'))"
      ]
    }
  ],
  "metadata": {
    "colab": {
      "provenance": []
    },
    "kernelspec": {
      "display_name": "Python 3 (ipykernel)",
      "language": "python",
      "name": "python3"
    },
    "language_info": {
      "codemirror_mode": {
        "name": "ipython",
        "version": 3
      },
      "file_extension": ".py",
      "mimetype": "text/x-python",
      "name": "python",
      "nbconvert_exporter": "python",
      "pygments_lexer": "ipython3",
      "version": "3.9.13"
    }
  },
  "nbformat": 4,
  "nbformat_minor": 0
}